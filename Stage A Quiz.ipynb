{
 "cells": [
  {
   "cell_type": "code",
   "execution_count": 51,
   "metadata": {},
   "outputs": [],
   "source": [
    "import requests"
   ]
  },
  {
   "cell_type": "code",
   "execution_count": 53,
   "metadata": {},
   "outputs": [
    {
     "name": "stdout",
     "output_type": "stream",
     "text": [
      "download ready.\n"
     ]
    }
   ],
   "source": [
    "download_url = \"https://raw.githubusercontent.com/WalePhenomenon/climate_change/master/fuel_ferc1.csv\"\n",
    "target_csv_path = \"fuel_ferc.csv\"\n",
    "\n",
    "response = requests.get(download_url)\n",
    "response.raise_for_status()\n",
    "with open(target_csv_path, \"wb\") as f:\n",
    "    f.write(response.content)\n",
    "print(\"download ready.\")"
   ]
  },
  {
   "cell_type": "code",
   "execution_count": 3,
   "metadata": {},
   "outputs": [],
   "source": [
    "import numpy as np\n",
    "import pandas as pd"
   ]
  },
  {
   "cell_type": "code",
   "execution_count": 4,
   "metadata": {},
   "outputs": [],
   "source": [
    "a = [1,2,3,4,5,6]\n",
    "b = [13,21,34]"
   ]
  },
  {
   "cell_type": "code",
   "execution_count": 5,
   "metadata": {},
   "outputs": [],
   "source": [
    "a.extend(b)"
   ]
  },
  {
   "cell_type": "code",
   "execution_count": 6,
   "metadata": {},
   "outputs": [
    {
     "name": "stdout",
     "output_type": "stream",
     "text": [
      "[1, 2, 3, 4, 5, 6, 13, 21, 34]\n"
     ]
    }
   ],
   "source": [
    "print(a)"
   ]
  },
  {
   "cell_type": "code",
   "execution_count": 7,
   "metadata": {},
   "outputs": [
    {
     "data": {
      "text/plain": [
       "array([[1., 0., 0.],\n",
       "       [0., 1., 0.],\n",
       "       [0., 0., 1.]])"
      ]
     },
     "execution_count": 7,
     "metadata": {},
     "output_type": "execute_result"
    }
   ],
   "source": [
    "np.eye(3)"
   ]
  },
  {
   "cell_type": "code",
   "execution_count": 8,
   "metadata": {},
   "outputs": [],
   "source": [
    "df = pd.read_csv('fuel_ferc1.csv')"
   ]
  },
  {
   "cell_type": "code",
   "execution_count": 9,
   "metadata": {},
   "outputs": [
    {
     "data": {
      "text/html": [
       "<div>\n",
       "<style scoped>\n",
       "    .dataframe tbody tr th:only-of-type {\n",
       "        vertical-align: middle;\n",
       "    }\n",
       "\n",
       "    .dataframe tbody tr th {\n",
       "        vertical-align: top;\n",
       "    }\n",
       "\n",
       "    .dataframe thead th {\n",
       "        text-align: right;\n",
       "    }\n",
       "</style>\n",
       "<table border=\"1\" class=\"dataframe\">\n",
       "  <thead>\n",
       "    <tr style=\"text-align: right;\">\n",
       "      <th></th>\n",
       "      <th>record_id</th>\n",
       "      <th>utility_id_ferc1</th>\n",
       "      <th>report_year</th>\n",
       "      <th>plant_name_ferc1</th>\n",
       "      <th>fuel_type_code_pudl</th>\n",
       "      <th>fuel_unit</th>\n",
       "      <th>fuel_qty_burned</th>\n",
       "      <th>fuel_mmbtu_per_unit</th>\n",
       "      <th>fuel_cost_per_unit_burned</th>\n",
       "      <th>fuel_cost_per_unit_delivered</th>\n",
       "      <th>fuel_cost_per_mmbtu</th>\n",
       "    </tr>\n",
       "  </thead>\n",
       "  <tbody>\n",
       "    <tr>\n",
       "      <td>0</td>\n",
       "      <td>f1_fuel_1994_12_1_0_7</td>\n",
       "      <td>1</td>\n",
       "      <td>1994</td>\n",
       "      <td>rockport</td>\n",
       "      <td>coal</td>\n",
       "      <td>ton</td>\n",
       "      <td>5377489.0</td>\n",
       "      <td>16.590</td>\n",
       "      <td>18.59</td>\n",
       "      <td>18.53</td>\n",
       "      <td>1.121</td>\n",
       "    </tr>\n",
       "    <tr>\n",
       "      <td>1</td>\n",
       "      <td>f1_fuel_1994_12_1_0_10</td>\n",
       "      <td>1</td>\n",
       "      <td>1994</td>\n",
       "      <td>rockport total plant</td>\n",
       "      <td>coal</td>\n",
       "      <td>ton</td>\n",
       "      <td>10486945.0</td>\n",
       "      <td>16.592</td>\n",
       "      <td>18.58</td>\n",
       "      <td>18.53</td>\n",
       "      <td>1.120</td>\n",
       "    </tr>\n",
       "    <tr>\n",
       "      <td>2</td>\n",
       "      <td>f1_fuel_1994_12_2_0_1</td>\n",
       "      <td>2</td>\n",
       "      <td>1994</td>\n",
       "      <td>gorgas</td>\n",
       "      <td>coal</td>\n",
       "      <td>ton</td>\n",
       "      <td>2978683.0</td>\n",
       "      <td>24.130</td>\n",
       "      <td>39.72</td>\n",
       "      <td>38.12</td>\n",
       "      <td>1.650</td>\n",
       "    </tr>\n",
       "    <tr>\n",
       "      <td>3</td>\n",
       "      <td>f1_fuel_1994_12_2_0_7</td>\n",
       "      <td>2</td>\n",
       "      <td>1994</td>\n",
       "      <td>barry</td>\n",
       "      <td>coal</td>\n",
       "      <td>ton</td>\n",
       "      <td>3739484.0</td>\n",
       "      <td>23.950</td>\n",
       "      <td>47.21</td>\n",
       "      <td>45.99</td>\n",
       "      <td>1.970</td>\n",
       "    </tr>\n",
       "    <tr>\n",
       "      <td>4</td>\n",
       "      <td>f1_fuel_1994_12_2_0_10</td>\n",
       "      <td>2</td>\n",
       "      <td>1994</td>\n",
       "      <td>chickasaw</td>\n",
       "      <td>gas</td>\n",
       "      <td>mcf</td>\n",
       "      <td>40533.0</td>\n",
       "      <td>1.000</td>\n",
       "      <td>2.77</td>\n",
       "      <td>2.77</td>\n",
       "      <td>2.570</td>\n",
       "    </tr>\n",
       "    <tr>\n",
       "      <td>...</td>\n",
       "      <td>...</td>\n",
       "      <td>...</td>\n",
       "      <td>...</td>\n",
       "      <td>...</td>\n",
       "      <td>...</td>\n",
       "      <td>...</td>\n",
       "      <td>...</td>\n",
       "      <td>...</td>\n",
       "      <td>...</td>\n",
       "      <td>...</td>\n",
       "      <td>...</td>\n",
       "    </tr>\n",
       "    <tr>\n",
       "      <td>29518</td>\n",
       "      <td>f1_fuel_2018_12_12_0_13</td>\n",
       "      <td>12</td>\n",
       "      <td>2018</td>\n",
       "      <td>neil simpson ct #1</td>\n",
       "      <td>gas</td>\n",
       "      <td>mcf</td>\n",
       "      <td>18799.0</td>\n",
       "      <td>1.059</td>\n",
       "      <td>4.78</td>\n",
       "      <td>4.78</td>\n",
       "      <td>9.030</td>\n",
       "    </tr>\n",
       "    <tr>\n",
       "      <td>29519</td>\n",
       "      <td>f1_fuel_2018_12_12_1_1</td>\n",
       "      <td>12</td>\n",
       "      <td>2018</td>\n",
       "      <td>cheyenne prairie 58%</td>\n",
       "      <td>gas</td>\n",
       "      <td>mcf</td>\n",
       "      <td>806730.0</td>\n",
       "      <td>1.050</td>\n",
       "      <td>3.65</td>\n",
       "      <td>3.65</td>\n",
       "      <td>6.950</td>\n",
       "    </tr>\n",
       "    <tr>\n",
       "      <td>29520</td>\n",
       "      <td>f1_fuel_2018_12_12_1_10</td>\n",
       "      <td>12</td>\n",
       "      <td>2018</td>\n",
       "      <td>lange ct facility</td>\n",
       "      <td>gas</td>\n",
       "      <td>mcf</td>\n",
       "      <td>104554.0</td>\n",
       "      <td>1.060</td>\n",
       "      <td>4.77</td>\n",
       "      <td>4.77</td>\n",
       "      <td>8.990</td>\n",
       "    </tr>\n",
       "    <tr>\n",
       "      <td>29521</td>\n",
       "      <td>f1_fuel_2018_12_12_1_13</td>\n",
       "      <td>12</td>\n",
       "      <td>2018</td>\n",
       "      <td>wygen 3 bhp 52%</td>\n",
       "      <td>coal</td>\n",
       "      <td>ton</td>\n",
       "      <td>315945.0</td>\n",
       "      <td>16.108</td>\n",
       "      <td>3.06</td>\n",
       "      <td>14.76</td>\n",
       "      <td>1.110</td>\n",
       "    </tr>\n",
       "    <tr>\n",
       "      <td>29522</td>\n",
       "      <td>f1_fuel_2018_12_12_1_14</td>\n",
       "      <td>12</td>\n",
       "      <td>2018</td>\n",
       "      <td>wygen 3 bhp 52%</td>\n",
       "      <td>gas</td>\n",
       "      <td>mcf</td>\n",
       "      <td>17853.0</td>\n",
       "      <td>1.059</td>\n",
       "      <td>0.00</td>\n",
       "      <td>0.00</td>\n",
       "      <td>11.680</td>\n",
       "    </tr>\n",
       "  </tbody>\n",
       "</table>\n",
       "<p>29523 rows × 11 columns</p>\n",
       "</div>"
      ],
      "text/plain": [
       "                     record_id  utility_id_ferc1  report_year  \\\n",
       "0        f1_fuel_1994_12_1_0_7                 1         1994   \n",
       "1       f1_fuel_1994_12_1_0_10                 1         1994   \n",
       "2        f1_fuel_1994_12_2_0_1                 2         1994   \n",
       "3        f1_fuel_1994_12_2_0_7                 2         1994   \n",
       "4       f1_fuel_1994_12_2_0_10                 2         1994   \n",
       "...                        ...               ...          ...   \n",
       "29518  f1_fuel_2018_12_12_0_13                12         2018   \n",
       "29519   f1_fuel_2018_12_12_1_1                12         2018   \n",
       "29520  f1_fuel_2018_12_12_1_10                12         2018   \n",
       "29521  f1_fuel_2018_12_12_1_13                12         2018   \n",
       "29522  f1_fuel_2018_12_12_1_14                12         2018   \n",
       "\n",
       "           plant_name_ferc1 fuel_type_code_pudl fuel_unit  fuel_qty_burned  \\\n",
       "0                  rockport                coal       ton        5377489.0   \n",
       "1      rockport total plant                coal       ton       10486945.0   \n",
       "2                    gorgas                coal       ton        2978683.0   \n",
       "3                     barry                coal       ton        3739484.0   \n",
       "4                 chickasaw                 gas       mcf          40533.0   \n",
       "...                     ...                 ...       ...              ...   \n",
       "29518    neil simpson ct #1                 gas       mcf          18799.0   \n",
       "29519  cheyenne prairie 58%                 gas       mcf         806730.0   \n",
       "29520     lange ct facility                 gas       mcf         104554.0   \n",
       "29521       wygen 3 bhp 52%                coal       ton         315945.0   \n",
       "29522       wygen 3 bhp 52%                 gas       mcf          17853.0   \n",
       "\n",
       "       fuel_mmbtu_per_unit  fuel_cost_per_unit_burned  \\\n",
       "0                   16.590                      18.59   \n",
       "1                   16.592                      18.58   \n",
       "2                   24.130                      39.72   \n",
       "3                   23.950                      47.21   \n",
       "4                    1.000                       2.77   \n",
       "...                    ...                        ...   \n",
       "29518                1.059                       4.78   \n",
       "29519                1.050                       3.65   \n",
       "29520                1.060                       4.77   \n",
       "29521               16.108                       3.06   \n",
       "29522                1.059                       0.00   \n",
       "\n",
       "       fuel_cost_per_unit_delivered  fuel_cost_per_mmbtu  \n",
       "0                             18.53                1.121  \n",
       "1                             18.53                1.120  \n",
       "2                             38.12                1.650  \n",
       "3                             45.99                1.970  \n",
       "4                              2.77                2.570  \n",
       "...                             ...                  ...  \n",
       "29518                          4.78                9.030  \n",
       "29519                          3.65                6.950  \n",
       "29520                          4.77                8.990  \n",
       "29521                         14.76                1.110  \n",
       "29522                          0.00               11.680  \n",
       "\n",
       "[29523 rows x 11 columns]"
      ]
     },
     "execution_count": 9,
     "metadata": {},
     "output_type": "execute_result"
    }
   ],
   "source": [
    "df"
   ]
  },
  {
   "cell_type": "code",
   "execution_count": 10,
   "metadata": {},
   "outputs": [
    {
     "data": {
      "text/html": [
       "<div>\n",
       "<style scoped>\n",
       "    .dataframe tbody tr th:only-of-type {\n",
       "        vertical-align: middle;\n",
       "    }\n",
       "\n",
       "    .dataframe tbody tr th {\n",
       "        vertical-align: top;\n",
       "    }\n",
       "\n",
       "    .dataframe thead th {\n",
       "        text-align: right;\n",
       "    }\n",
       "</style>\n",
       "<table border=\"1\" class=\"dataframe\">\n",
       "  <thead>\n",
       "    <tr style=\"text-align: right;\">\n",
       "      <th></th>\n",
       "      <th>fuel_type_code_pudl</th>\n",
       "      <th>fuel_cost_per_unit_burned</th>\n",
       "    </tr>\n",
       "  </thead>\n",
       "  <tbody>\n",
       "    <tr>\n",
       "      <td>0</td>\n",
       "      <td>coal</td>\n",
       "      <td>18.59</td>\n",
       "    </tr>\n",
       "    <tr>\n",
       "      <td>1</td>\n",
       "      <td>coal</td>\n",
       "      <td>18.58</td>\n",
       "    </tr>\n",
       "    <tr>\n",
       "      <td>2</td>\n",
       "      <td>coal</td>\n",
       "      <td>39.72</td>\n",
       "    </tr>\n",
       "    <tr>\n",
       "      <td>3</td>\n",
       "      <td>coal</td>\n",
       "      <td>47.21</td>\n",
       "    </tr>\n",
       "    <tr>\n",
       "      <td>4</td>\n",
       "      <td>gas</td>\n",
       "      <td>2.77</td>\n",
       "    </tr>\n",
       "    <tr>\n",
       "      <td>...</td>\n",
       "      <td>...</td>\n",
       "      <td>...</td>\n",
       "    </tr>\n",
       "    <tr>\n",
       "      <td>29518</td>\n",
       "      <td>gas</td>\n",
       "      <td>4.78</td>\n",
       "    </tr>\n",
       "    <tr>\n",
       "      <td>29519</td>\n",
       "      <td>gas</td>\n",
       "      <td>3.65</td>\n",
       "    </tr>\n",
       "    <tr>\n",
       "      <td>29520</td>\n",
       "      <td>gas</td>\n",
       "      <td>4.77</td>\n",
       "    </tr>\n",
       "    <tr>\n",
       "      <td>29521</td>\n",
       "      <td>coal</td>\n",
       "      <td>3.06</td>\n",
       "    </tr>\n",
       "    <tr>\n",
       "      <td>29522</td>\n",
       "      <td>gas</td>\n",
       "      <td>0.00</td>\n",
       "    </tr>\n",
       "  </tbody>\n",
       "</table>\n",
       "<p>29523 rows × 2 columns</p>\n",
       "</div>"
      ],
      "text/plain": [
       "      fuel_type_code_pudl  fuel_cost_per_unit_burned\n",
       "0                    coal                      18.59\n",
       "1                    coal                      18.58\n",
       "2                    coal                      39.72\n",
       "3                    coal                      47.21\n",
       "4                     gas                       2.77\n",
       "...                   ...                        ...\n",
       "29518                 gas                       4.78\n",
       "29519                 gas                       3.65\n",
       "29520                 gas                       4.77\n",
       "29521                coal                       3.06\n",
       "29522                 gas                       0.00\n",
       "\n",
       "[29523 rows x 2 columns]"
      ]
     },
     "execution_count": 10,
     "metadata": {},
     "output_type": "execute_result"
    }
   ],
   "source": [
    "ques3 = df[['fuel_type_code_pudl', 'fuel_cost_per_unit_burned']]\n",
    "ques3"
   ]
  },
  {
   "cell_type": "code",
   "execution_count": 38,
   "metadata": {},
   "outputs": [
    {
     "data": {
      "text/plain": [
       "fuel_type_code_pudl            coal\n",
       "fuel_cost_per_unit_burned   -276.08\n",
       "dtype: object"
      ]
     },
     "execution_count": 38,
     "metadata": {},
     "output_type": "execute_result"
    }
   ],
   "source": [
    "ques3.min()"
   ]
  },
  {
   "cell_type": "code",
   "execution_count": 12,
   "metadata": {},
   "outputs": [
    {
     "data": {
      "text/plain": [
       "0        16.590\n",
       "1        16.592\n",
       "2        24.130\n",
       "3        23.950\n",
       "4         1.000\n",
       "          ...  \n",
       "29518     1.059\n",
       "29519     1.050\n",
       "29520     1.060\n",
       "29521    16.108\n",
       "29522     1.059\n",
       "Name: fuel_mmbtu_per_unit, Length: 29523, dtype: float64"
      ]
     },
     "execution_count": 12,
     "metadata": {},
     "output_type": "execute_result"
    }
   ],
   "source": [
    "ques4 = df['fuel_mmbtu_per_unit']\n",
    "ques4"
   ]
  },
  {
   "cell_type": "code",
   "execution_count": 13,
   "metadata": {},
   "outputs": [
    {
     "data": {
      "text/plain": [
       "count    29523.000000\n",
       "mean         8.492111\n",
       "std         10.600220\n",
       "min          0.000001\n",
       "25%          1.024000\n",
       "50%          5.762694\n",
       "75%         17.006000\n",
       "max        341.260000\n",
       "Name: fuel_mmbtu_per_unit, dtype: float64"
      ]
     },
     "execution_count": 13,
     "metadata": {},
     "output_type": "execute_result"
    }
   ],
   "source": [
    "ques4.describe()"
   ]
  },
  {
   "cell_type": "code",
   "execution_count": 14,
   "metadata": {},
   "outputs": [
    {
     "data": {
      "text/plain": [
       "0         5377489.0\n",
       "1        10486945.0\n",
       "2         2978683.0\n",
       "3         3739484.0\n",
       "4           40533.0\n",
       "            ...    \n",
       "29518       18799.0\n",
       "29519      806730.0\n",
       "29520      104554.0\n",
       "29521      315945.0\n",
       "29522       17853.0\n",
       "Name: fuel_qty_burned, Length: 29523, dtype: float64"
      ]
     },
     "execution_count": 14,
     "metadata": {},
     "output_type": "execute_result"
    }
   ],
   "source": [
    "ques5 = df['fuel_qty_burned']\n",
    "ques5"
   ]
  },
  {
   "cell_type": "code",
   "execution_count": 15,
   "metadata": {},
   "outputs": [
    {
     "data": {
      "text/plain": [
       "count    2.952300e+04\n",
       "mean     2.622119e+06\n",
       "std      9.118004e+06\n",
       "min      1.000000e+00\n",
       "25%      1.381700e+04\n",
       "50%      2.533220e+05\n",
       "75%      1.424034e+06\n",
       "max      5.558942e+08\n",
       "Name: fuel_qty_burned, dtype: float64"
      ]
     },
     "execution_count": 15,
     "metadata": {},
     "output_type": "execute_result"
    }
   ],
   "source": [
    "ques5.describe()"
   ]
  },
  {
   "cell_type": "code",
   "execution_count": 26,
   "metadata": {},
   "outputs": [
    {
     "data": {
      "text/plain": [
       "record_id                         0\n",
       "utility_id_ferc1                  0\n",
       "report_year                       0\n",
       "plant_name_ferc1                  0\n",
       "fuel_type_code_pudl               0\n",
       "fuel_unit                       180\n",
       "fuel_qty_burned                   0\n",
       "fuel_mmbtu_per_unit               0\n",
       "fuel_cost_per_unit_burned         0\n",
       "fuel_cost_per_unit_delivered      0\n",
       "fuel_cost_per_mmbtu               0\n",
       "dtype: int64"
      ]
     },
     "execution_count": 26,
     "metadata": {},
     "output_type": "execute_result"
    }
   ],
   "source": [
    "x = df.isnull().sum()\n",
    "x"
   ]
  },
  {
   "cell_type": "code",
   "execution_count": 25,
   "metadata": {},
   "outputs": [
    {
     "data": {
      "text/plain": [
       "29523"
      ]
     },
     "execution_count": 25,
     "metadata": {},
     "output_type": "execute_result"
    }
   ],
   "source": [
    "len(df)"
   ]
  },
  {
   "cell_type": "code",
   "execution_count": 28,
   "metadata": {},
   "outputs": [
    {
     "data": {
      "text/plain": [
       "record_id                       0.000000\n",
       "utility_id_ferc1                0.000000\n",
       "report_year                     0.000000\n",
       "plant_name_ferc1                0.000000\n",
       "fuel_type_code_pudl             0.000000\n",
       "fuel_unit                       0.006097\n",
       "fuel_qty_burned                 0.000000\n",
       "fuel_mmbtu_per_unit             0.000000\n",
       "fuel_cost_per_unit_burned       0.000000\n",
       "fuel_cost_per_unit_delivered    0.000000\n",
       "fuel_cost_per_mmbtu             0.000000\n",
       "dtype: float64"
      ]
     },
     "execution_count": 28,
     "metadata": {},
     "output_type": "execute_result"
    }
   ],
   "source": [
    "z = x / len(df)\n",
    "z"
   ]
  },
  {
   "cell_type": "code",
   "execution_count": 29,
   "metadata": {},
   "outputs": [
    {
     "data": {
      "text/plain": [
       "0.0005542673970679254"
      ]
     },
     "execution_count": 29,
     "metadata": {},
     "output_type": "execute_result"
    }
   ],
   "source": [
    "z.mean()"
   ]
  },
  {
   "cell_type": "code",
   "execution_count": 30,
   "metadata": {},
   "outputs": [
    {
     "data": {
      "text/plain": [
       "record_id                       0.00\n",
       "utility_id_ferc1                0.00\n",
       "report_year                     0.00\n",
       "plant_name_ferc1                0.00\n",
       "fuel_type_code_pudl             0.00\n",
       "fuel_unit                       0.61\n",
       "fuel_qty_burned                 0.00\n",
       "fuel_mmbtu_per_unit             0.00\n",
       "fuel_cost_per_unit_burned       0.00\n",
       "fuel_cost_per_unit_delivered    0.00\n",
       "fuel_cost_per_mmbtu             0.00\n",
       "dtype: float64"
      ]
     },
     "execution_count": 30,
     "metadata": {},
     "output_type": "execute_result"
    }
   ],
   "source": [
    "df.isna().mean().round(4) * 100"
   ]
  },
  {
   "cell_type": "code",
   "execution_count": 31,
   "metadata": {},
   "outputs": [
    {
     "data": {
      "text/html": [
       "<div>\n",
       "<style scoped>\n",
       "    .dataframe tbody tr th:only-of-type {\n",
       "        vertical-align: middle;\n",
       "    }\n",
       "\n",
       "    .dataframe tbody tr th {\n",
       "        vertical-align: top;\n",
       "    }\n",
       "\n",
       "    .dataframe thead th {\n",
       "        text-align: right;\n",
       "    }\n",
       "</style>\n",
       "<table border=\"1\" class=\"dataframe\">\n",
       "  <thead>\n",
       "    <tr style=\"text-align: right;\">\n",
       "      <th></th>\n",
       "      <th>record_id</th>\n",
       "      <th>utility_id_ferc1</th>\n",
       "      <th>report_year</th>\n",
       "      <th>plant_name_ferc1</th>\n",
       "      <th>fuel_type_code_pudl</th>\n",
       "      <th>fuel_unit</th>\n",
       "      <th>fuel_qty_burned</th>\n",
       "      <th>fuel_mmbtu_per_unit</th>\n",
       "      <th>fuel_cost_per_unit_burned</th>\n",
       "      <th>fuel_cost_per_unit_delivered</th>\n",
       "      <th>fuel_cost_per_mmbtu</th>\n",
       "    </tr>\n",
       "  </thead>\n",
       "  <tbody>\n",
       "    <tr>\n",
       "      <td>0</td>\n",
       "      <td>f1_fuel_1994_12_1_0_7</td>\n",
       "      <td>1</td>\n",
       "      <td>1994</td>\n",
       "      <td>rockport</td>\n",
       "      <td>coal</td>\n",
       "      <td>ton</td>\n",
       "      <td>5377489.0</td>\n",
       "      <td>16.590</td>\n",
       "      <td>18.59</td>\n",
       "      <td>18.53</td>\n",
       "      <td>1.121</td>\n",
       "    </tr>\n",
       "    <tr>\n",
       "      <td>1</td>\n",
       "      <td>f1_fuel_1994_12_1_0_10</td>\n",
       "      <td>1</td>\n",
       "      <td>1994</td>\n",
       "      <td>rockport total plant</td>\n",
       "      <td>coal</td>\n",
       "      <td>ton</td>\n",
       "      <td>10486945.0</td>\n",
       "      <td>16.592</td>\n",
       "      <td>18.58</td>\n",
       "      <td>18.53</td>\n",
       "      <td>1.120</td>\n",
       "    </tr>\n",
       "    <tr>\n",
       "      <td>2</td>\n",
       "      <td>f1_fuel_1994_12_2_0_1</td>\n",
       "      <td>2</td>\n",
       "      <td>1994</td>\n",
       "      <td>gorgas</td>\n",
       "      <td>coal</td>\n",
       "      <td>ton</td>\n",
       "      <td>2978683.0</td>\n",
       "      <td>24.130</td>\n",
       "      <td>39.72</td>\n",
       "      <td>38.12</td>\n",
       "      <td>1.650</td>\n",
       "    </tr>\n",
       "    <tr>\n",
       "      <td>3</td>\n",
       "      <td>f1_fuel_1994_12_2_0_7</td>\n",
       "      <td>2</td>\n",
       "      <td>1994</td>\n",
       "      <td>barry</td>\n",
       "      <td>coal</td>\n",
       "      <td>ton</td>\n",
       "      <td>3739484.0</td>\n",
       "      <td>23.950</td>\n",
       "      <td>47.21</td>\n",
       "      <td>45.99</td>\n",
       "      <td>1.970</td>\n",
       "    </tr>\n",
       "    <tr>\n",
       "      <td>4</td>\n",
       "      <td>f1_fuel_1994_12_2_0_10</td>\n",
       "      <td>2</td>\n",
       "      <td>1994</td>\n",
       "      <td>chickasaw</td>\n",
       "      <td>gas</td>\n",
       "      <td>mcf</td>\n",
       "      <td>40533.0</td>\n",
       "      <td>1.000</td>\n",
       "      <td>2.77</td>\n",
       "      <td>2.77</td>\n",
       "      <td>2.570</td>\n",
       "    </tr>\n",
       "    <tr>\n",
       "      <td>...</td>\n",
       "      <td>...</td>\n",
       "      <td>...</td>\n",
       "      <td>...</td>\n",
       "      <td>...</td>\n",
       "      <td>...</td>\n",
       "      <td>...</td>\n",
       "      <td>...</td>\n",
       "      <td>...</td>\n",
       "      <td>...</td>\n",
       "      <td>...</td>\n",
       "      <td>...</td>\n",
       "    </tr>\n",
       "    <tr>\n",
       "      <td>29518</td>\n",
       "      <td>f1_fuel_2018_12_12_0_13</td>\n",
       "      <td>12</td>\n",
       "      <td>2018</td>\n",
       "      <td>neil simpson ct #1</td>\n",
       "      <td>gas</td>\n",
       "      <td>mcf</td>\n",
       "      <td>18799.0</td>\n",
       "      <td>1.059</td>\n",
       "      <td>4.78</td>\n",
       "      <td>4.78</td>\n",
       "      <td>9.030</td>\n",
       "    </tr>\n",
       "    <tr>\n",
       "      <td>29519</td>\n",
       "      <td>f1_fuel_2018_12_12_1_1</td>\n",
       "      <td>12</td>\n",
       "      <td>2018</td>\n",
       "      <td>cheyenne prairie 58%</td>\n",
       "      <td>gas</td>\n",
       "      <td>mcf</td>\n",
       "      <td>806730.0</td>\n",
       "      <td>1.050</td>\n",
       "      <td>3.65</td>\n",
       "      <td>3.65</td>\n",
       "      <td>6.950</td>\n",
       "    </tr>\n",
       "    <tr>\n",
       "      <td>29520</td>\n",
       "      <td>f1_fuel_2018_12_12_1_10</td>\n",
       "      <td>12</td>\n",
       "      <td>2018</td>\n",
       "      <td>lange ct facility</td>\n",
       "      <td>gas</td>\n",
       "      <td>mcf</td>\n",
       "      <td>104554.0</td>\n",
       "      <td>1.060</td>\n",
       "      <td>4.77</td>\n",
       "      <td>4.77</td>\n",
       "      <td>8.990</td>\n",
       "    </tr>\n",
       "    <tr>\n",
       "      <td>29521</td>\n",
       "      <td>f1_fuel_2018_12_12_1_13</td>\n",
       "      <td>12</td>\n",
       "      <td>2018</td>\n",
       "      <td>wygen 3 bhp 52%</td>\n",
       "      <td>coal</td>\n",
       "      <td>ton</td>\n",
       "      <td>315945.0</td>\n",
       "      <td>16.108</td>\n",
       "      <td>3.06</td>\n",
       "      <td>14.76</td>\n",
       "      <td>1.110</td>\n",
       "    </tr>\n",
       "    <tr>\n",
       "      <td>29522</td>\n",
       "      <td>f1_fuel_2018_12_12_1_14</td>\n",
       "      <td>12</td>\n",
       "      <td>2018</td>\n",
       "      <td>wygen 3 bhp 52%</td>\n",
       "      <td>gas</td>\n",
       "      <td>mcf</td>\n",
       "      <td>17853.0</td>\n",
       "      <td>1.059</td>\n",
       "      <td>0.00</td>\n",
       "      <td>0.00</td>\n",
       "      <td>11.680</td>\n",
       "    </tr>\n",
       "  </tbody>\n",
       "</table>\n",
       "<p>29523 rows × 11 columns</p>\n",
       "</div>"
      ],
      "text/plain": [
       "                     record_id  utility_id_ferc1  report_year  \\\n",
       "0        f1_fuel_1994_12_1_0_7                 1         1994   \n",
       "1       f1_fuel_1994_12_1_0_10                 1         1994   \n",
       "2        f1_fuel_1994_12_2_0_1                 2         1994   \n",
       "3        f1_fuel_1994_12_2_0_7                 2         1994   \n",
       "4       f1_fuel_1994_12_2_0_10                 2         1994   \n",
       "...                        ...               ...          ...   \n",
       "29518  f1_fuel_2018_12_12_0_13                12         2018   \n",
       "29519   f1_fuel_2018_12_12_1_1                12         2018   \n",
       "29520  f1_fuel_2018_12_12_1_10                12         2018   \n",
       "29521  f1_fuel_2018_12_12_1_13                12         2018   \n",
       "29522  f1_fuel_2018_12_12_1_14                12         2018   \n",
       "\n",
       "           plant_name_ferc1 fuel_type_code_pudl fuel_unit  fuel_qty_burned  \\\n",
       "0                  rockport                coal       ton        5377489.0   \n",
       "1      rockport total plant                coal       ton       10486945.0   \n",
       "2                    gorgas                coal       ton        2978683.0   \n",
       "3                     barry                coal       ton        3739484.0   \n",
       "4                 chickasaw                 gas       mcf          40533.0   \n",
       "...                     ...                 ...       ...              ...   \n",
       "29518    neil simpson ct #1                 gas       mcf          18799.0   \n",
       "29519  cheyenne prairie 58%                 gas       mcf         806730.0   \n",
       "29520     lange ct facility                 gas       mcf         104554.0   \n",
       "29521       wygen 3 bhp 52%                coal       ton         315945.0   \n",
       "29522       wygen 3 bhp 52%                 gas       mcf          17853.0   \n",
       "\n",
       "       fuel_mmbtu_per_unit  fuel_cost_per_unit_burned  \\\n",
       "0                   16.590                      18.59   \n",
       "1                   16.592                      18.58   \n",
       "2                   24.130                      39.72   \n",
       "3                   23.950                      47.21   \n",
       "4                    1.000                       2.77   \n",
       "...                    ...                        ...   \n",
       "29518                1.059                       4.78   \n",
       "29519                1.050                       3.65   \n",
       "29520                1.060                       4.77   \n",
       "29521               16.108                       3.06   \n",
       "29522                1.059                       0.00   \n",
       "\n",
       "       fuel_cost_per_unit_delivered  fuel_cost_per_mmbtu  \n",
       "0                             18.53                1.121  \n",
       "1                             18.53                1.120  \n",
       "2                             38.12                1.650  \n",
       "3                             45.99                1.970  \n",
       "4                              2.77                2.570  \n",
       "...                             ...                  ...  \n",
       "29518                          4.78                9.030  \n",
       "29519                          3.65                6.950  \n",
       "29520                          4.77                8.990  \n",
       "29521                         14.76                1.110  \n",
       "29522                          0.00               11.680  \n",
       "\n",
       "[29523 rows x 11 columns]"
      ]
     },
     "execution_count": 31,
     "metadata": {},
     "output_type": "execute_result"
    }
   ],
   "source": [
    "df"
   ]
  },
  {
   "cell_type": "code",
   "execution_count": 33,
   "metadata": {},
   "outputs": [
    {
     "data": {
      "text/html": [
       "<div>\n",
       "<style scoped>\n",
       "    .dataframe tbody tr th:only-of-type {\n",
       "        vertical-align: middle;\n",
       "    }\n",
       "\n",
       "    .dataframe tbody tr th {\n",
       "        vertical-align: top;\n",
       "    }\n",
       "\n",
       "    .dataframe thead th {\n",
       "        text-align: right;\n",
       "    }\n",
       "</style>\n",
       "<table border=\"1\" class=\"dataframe\">\n",
       "  <thead>\n",
       "    <tr style=\"text-align: right;\">\n",
       "      <th></th>\n",
       "      <th>report_year</th>\n",
       "      <th>fuel_cost_per_unit_delivered</th>\n",
       "    </tr>\n",
       "  </thead>\n",
       "  <tbody>\n",
       "    <tr>\n",
       "      <td>0</td>\n",
       "      <td>1994</td>\n",
       "      <td>18.53</td>\n",
       "    </tr>\n",
       "    <tr>\n",
       "      <td>1</td>\n",
       "      <td>1994</td>\n",
       "      <td>18.53</td>\n",
       "    </tr>\n",
       "    <tr>\n",
       "      <td>2</td>\n",
       "      <td>1994</td>\n",
       "      <td>38.12</td>\n",
       "    </tr>\n",
       "    <tr>\n",
       "      <td>3</td>\n",
       "      <td>1994</td>\n",
       "      <td>45.99</td>\n",
       "    </tr>\n",
       "    <tr>\n",
       "      <td>4</td>\n",
       "      <td>1994</td>\n",
       "      <td>2.77</td>\n",
       "    </tr>\n",
       "    <tr>\n",
       "      <td>...</td>\n",
       "      <td>...</td>\n",
       "      <td>...</td>\n",
       "    </tr>\n",
       "    <tr>\n",
       "      <td>29518</td>\n",
       "      <td>2018</td>\n",
       "      <td>4.78</td>\n",
       "    </tr>\n",
       "    <tr>\n",
       "      <td>29519</td>\n",
       "      <td>2018</td>\n",
       "      <td>3.65</td>\n",
       "    </tr>\n",
       "    <tr>\n",
       "      <td>29520</td>\n",
       "      <td>2018</td>\n",
       "      <td>4.77</td>\n",
       "    </tr>\n",
       "    <tr>\n",
       "      <td>29521</td>\n",
       "      <td>2018</td>\n",
       "      <td>14.76</td>\n",
       "    </tr>\n",
       "    <tr>\n",
       "      <td>29522</td>\n",
       "      <td>2018</td>\n",
       "      <td>0.00</td>\n",
       "    </tr>\n",
       "  </tbody>\n",
       "</table>\n",
       "<p>29523 rows × 2 columns</p>\n",
       "</div>"
      ],
      "text/plain": [
       "       report_year  fuel_cost_per_unit_delivered\n",
       "0             1994                         18.53\n",
       "1             1994                         18.53\n",
       "2             1994                         38.12\n",
       "3             1994                         45.99\n",
       "4             1994                          2.77\n",
       "...            ...                           ...\n",
       "29518         2018                          4.78\n",
       "29519         2018                          3.65\n",
       "29520         2018                          4.77\n",
       "29521         2018                         14.76\n",
       "29522         2018                          0.00\n",
       "\n",
       "[29523 rows x 2 columns]"
      ]
     },
     "execution_count": 33,
     "metadata": {},
     "output_type": "execute_result"
    }
   ],
   "source": [
    "ques10 = df[['report_year', 'fuel_cost_per_unit_delivered']]\n",
    "ques10"
   ]
  },
  {
   "cell_type": "code",
   "execution_count": 37,
   "metadata": {},
   "outputs": [
    {
     "data": {
      "text/plain": [
       "report_year                        2018.0\n",
       "fuel_cost_per_unit_delivered    7964521.0\n",
       "dtype: float64"
      ]
     },
     "execution_count": 37,
     "metadata": {},
     "output_type": "execute_result"
    }
   ],
   "source": [
    "ques10.max()"
   ]
  },
  {
   "cell_type": "code",
   "execution_count": 47,
   "metadata": {},
   "outputs": [
    {
     "data": {
      "text/html": [
       "<div>\n",
       "<style scoped>\n",
       "    .dataframe tbody tr th:only-of-type {\n",
       "        vertical-align: middle;\n",
       "    }\n",
       "\n",
       "    .dataframe tbody tr th {\n",
       "        vertical-align: top;\n",
       "    }\n",
       "\n",
       "    .dataframe thead th {\n",
       "        text-align: right;\n",
       "    }\n",
       "</style>\n",
       "<table border=\"1\" class=\"dataframe\">\n",
       "  <thead>\n",
       "    <tr style=\"text-align: right;\">\n",
       "      <th></th>\n",
       "      <th>fuel_type_code_pudl</th>\n",
       "      <th>report_year</th>\n",
       "      <th>fuel_cost_per_unit_burned</th>\n",
       "    </tr>\n",
       "  </thead>\n",
       "  <tbody>\n",
       "    <tr>\n",
       "      <td>0</td>\n",
       "      <td>coal</td>\n",
       "      <td>1994</td>\n",
       "      <td>18.59</td>\n",
       "    </tr>\n",
       "    <tr>\n",
       "      <td>1</td>\n",
       "      <td>coal</td>\n",
       "      <td>1994</td>\n",
       "      <td>18.58</td>\n",
       "    </tr>\n",
       "    <tr>\n",
       "      <td>2</td>\n",
       "      <td>coal</td>\n",
       "      <td>1994</td>\n",
       "      <td>39.72</td>\n",
       "    </tr>\n",
       "    <tr>\n",
       "      <td>3</td>\n",
       "      <td>coal</td>\n",
       "      <td>1994</td>\n",
       "      <td>47.21</td>\n",
       "    </tr>\n",
       "    <tr>\n",
       "      <td>4</td>\n",
       "      <td>gas</td>\n",
       "      <td>1994</td>\n",
       "      <td>2.77</td>\n",
       "    </tr>\n",
       "    <tr>\n",
       "      <td>...</td>\n",
       "      <td>...</td>\n",
       "      <td>...</td>\n",
       "      <td>...</td>\n",
       "    </tr>\n",
       "    <tr>\n",
       "      <td>29518</td>\n",
       "      <td>gas</td>\n",
       "      <td>2018</td>\n",
       "      <td>4.78</td>\n",
       "    </tr>\n",
       "    <tr>\n",
       "      <td>29519</td>\n",
       "      <td>gas</td>\n",
       "      <td>2018</td>\n",
       "      <td>3.65</td>\n",
       "    </tr>\n",
       "    <tr>\n",
       "      <td>29520</td>\n",
       "      <td>gas</td>\n",
       "      <td>2018</td>\n",
       "      <td>4.77</td>\n",
       "    </tr>\n",
       "    <tr>\n",
       "      <td>29521</td>\n",
       "      <td>coal</td>\n",
       "      <td>2018</td>\n",
       "      <td>3.06</td>\n",
       "    </tr>\n",
       "    <tr>\n",
       "      <td>29522</td>\n",
       "      <td>gas</td>\n",
       "      <td>2018</td>\n",
       "      <td>0.00</td>\n",
       "    </tr>\n",
       "  </tbody>\n",
       "</table>\n",
       "<p>29523 rows × 3 columns</p>\n",
       "</div>"
      ],
      "text/plain": [
       "      fuel_type_code_pudl  report_year  fuel_cost_per_unit_burned\n",
       "0                    coal         1994                      18.59\n",
       "1                    coal         1994                      18.58\n",
       "2                    coal         1994                      39.72\n",
       "3                    coal         1994                      47.21\n",
       "4                     gas         1994                       2.77\n",
       "...                   ...          ...                        ...\n",
       "29518                 gas         2018                       4.78\n",
       "29519                 gas         2018                       3.65\n",
       "29520                 gas         2018                       4.77\n",
       "29521                coal         2018                       3.06\n",
       "29522                 gas         2018                       0.00\n",
       "\n",
       "[29523 rows x 3 columns]"
      ]
     },
     "execution_count": 47,
     "metadata": {},
     "output_type": "execute_result"
    }
   ],
   "source": [
    "ques9 = df[['fuel_type_code_pudl','report_year', 'fuel_cost_per_unit_burned']]\n",
    "ques9"
   ]
  },
  {
   "cell_type": "code",
   "execution_count": 49,
   "metadata": {},
   "outputs": [
    {
     "data": {
      "text/plain": [
       "0        coal\n",
       "1        coal\n",
       "2        coal\n",
       "3        coal\n",
       "4         gas\n",
       "         ... \n",
       "29518     gas\n",
       "29519     gas\n",
       "29520     gas\n",
       "29521    coal\n",
       "29522     gas\n",
       "Name: fuel_type_code_pudl, Length: 29523, dtype: object"
      ]
     },
     "execution_count": 49,
     "metadata": {},
     "output_type": "execute_result"
    }
   ],
   "source": [
    "j = df['fuel_type_code_pudl']\n",
    "j"
   ]
  },
  {
   "cell_type": "code",
   "execution_count": 50,
   "metadata": {},
   "outputs": [
    {
     "ename": "KeyError",
     "evalue": "'coal'",
     "output_type": "error",
     "traceback": [
      "\u001b[1;31m---------------------------------------------------------------------------\u001b[0m",
      "\u001b[1;31mKeyError\u001b[0m                                  Traceback (most recent call last)",
      "\u001b[1;32mC:\\ProgramData\\Anaconda3\\lib\\site-packages\\pandas\\core\\indexes\\base.py\u001b[0m in \u001b[0;36mget_loc\u001b[1;34m(self, key, method, tolerance)\u001b[0m\n\u001b[0;32m   2896\u001b[0m             \u001b[1;32mtry\u001b[0m\u001b[1;33m:\u001b[0m\u001b[1;33m\u001b[0m\u001b[1;33m\u001b[0m\u001b[0m\n\u001b[1;32m-> 2897\u001b[1;33m                 \u001b[1;32mreturn\u001b[0m \u001b[0mself\u001b[0m\u001b[1;33m.\u001b[0m\u001b[0m_engine\u001b[0m\u001b[1;33m.\u001b[0m\u001b[0mget_loc\u001b[0m\u001b[1;33m(\u001b[0m\u001b[0mkey\u001b[0m\u001b[1;33m)\u001b[0m\u001b[1;33m\u001b[0m\u001b[1;33m\u001b[0m\u001b[0m\n\u001b[0m\u001b[0;32m   2898\u001b[0m             \u001b[1;32mexcept\u001b[0m \u001b[0mKeyError\u001b[0m\u001b[1;33m:\u001b[0m\u001b[1;33m\u001b[0m\u001b[1;33m\u001b[0m\u001b[0m\n",
      "\u001b[1;32mpandas\\_libs\\index.pyx\u001b[0m in \u001b[0;36mpandas._libs.index.IndexEngine.get_loc\u001b[1;34m()\u001b[0m\n",
      "\u001b[1;32mpandas\\_libs\\index.pyx\u001b[0m in \u001b[0;36mpandas._libs.index.IndexEngine.get_loc\u001b[1;34m()\u001b[0m\n",
      "\u001b[1;32mpandas\\_libs\\index_class_helper.pxi\u001b[0m in \u001b[0;36mpandas._libs.index.Int64Engine._check_type\u001b[1;34m()\u001b[0m\n",
      "\u001b[1;31mKeyError\u001b[0m: 'coal'",
      "\nDuring handling of the above exception, another exception occurred:\n",
      "\u001b[1;31mKeyError\u001b[0m                                  Traceback (most recent call last)",
      "\u001b[1;32m<ipython-input-50-99b98c3837ba>\u001b[0m in \u001b[0;36m<module>\u001b[1;34m\u001b[0m\n\u001b[1;32m----> 1\u001b[1;33m \u001b[0mj\u001b[0m\u001b[1;33m.\u001b[0m\u001b[0mloc\u001b[0m\u001b[1;33m[\u001b[0m\u001b[1;34m'coal'\u001b[0m\u001b[1;33m]\u001b[0m\u001b[1;33m\u001b[0m\u001b[1;33m\u001b[0m\u001b[0m\n\u001b[0m",
      "\u001b[1;32mC:\\ProgramData\\Anaconda3\\lib\\site-packages\\pandas\\core\\indexing.py\u001b[0m in \u001b[0;36m__getitem__\u001b[1;34m(self, key)\u001b[0m\n\u001b[0;32m   1422\u001b[0m \u001b[1;33m\u001b[0m\u001b[0m\n\u001b[0;32m   1423\u001b[0m             \u001b[0mmaybe_callable\u001b[0m \u001b[1;33m=\u001b[0m \u001b[0mcom\u001b[0m\u001b[1;33m.\u001b[0m\u001b[0mapply_if_callable\u001b[0m\u001b[1;33m(\u001b[0m\u001b[0mkey\u001b[0m\u001b[1;33m,\u001b[0m \u001b[0mself\u001b[0m\u001b[1;33m.\u001b[0m\u001b[0mobj\u001b[0m\u001b[1;33m)\u001b[0m\u001b[1;33m\u001b[0m\u001b[1;33m\u001b[0m\u001b[0m\n\u001b[1;32m-> 1424\u001b[1;33m             \u001b[1;32mreturn\u001b[0m \u001b[0mself\u001b[0m\u001b[1;33m.\u001b[0m\u001b[0m_getitem_axis\u001b[0m\u001b[1;33m(\u001b[0m\u001b[0mmaybe_callable\u001b[0m\u001b[1;33m,\u001b[0m \u001b[0maxis\u001b[0m\u001b[1;33m=\u001b[0m\u001b[0maxis\u001b[0m\u001b[1;33m)\u001b[0m\u001b[1;33m\u001b[0m\u001b[1;33m\u001b[0m\u001b[0m\n\u001b[0m\u001b[0;32m   1425\u001b[0m \u001b[1;33m\u001b[0m\u001b[0m\n\u001b[0;32m   1426\u001b[0m     \u001b[1;32mdef\u001b[0m \u001b[0m_is_scalar_access\u001b[0m\u001b[1;33m(\u001b[0m\u001b[0mself\u001b[0m\u001b[1;33m,\u001b[0m \u001b[0mkey\u001b[0m\u001b[1;33m:\u001b[0m \u001b[0mTuple\u001b[0m\u001b[1;33m)\u001b[0m\u001b[1;33m:\u001b[0m\u001b[1;33m\u001b[0m\u001b[1;33m\u001b[0m\u001b[0m\n",
      "\u001b[1;32mC:\\ProgramData\\Anaconda3\\lib\\site-packages\\pandas\\core\\indexing.py\u001b[0m in \u001b[0;36m_getitem_axis\u001b[1;34m(self, key, axis)\u001b[0m\n\u001b[0;32m   1848\u001b[0m         \u001b[1;31m# fall thru to straight lookup\u001b[0m\u001b[1;33m\u001b[0m\u001b[1;33m\u001b[0m\u001b[1;33m\u001b[0m\u001b[0m\n\u001b[0;32m   1849\u001b[0m         \u001b[0mself\u001b[0m\u001b[1;33m.\u001b[0m\u001b[0m_validate_key\u001b[0m\u001b[1;33m(\u001b[0m\u001b[0mkey\u001b[0m\u001b[1;33m,\u001b[0m \u001b[0maxis\u001b[0m\u001b[1;33m)\u001b[0m\u001b[1;33m\u001b[0m\u001b[1;33m\u001b[0m\u001b[0m\n\u001b[1;32m-> 1850\u001b[1;33m         \u001b[1;32mreturn\u001b[0m \u001b[0mself\u001b[0m\u001b[1;33m.\u001b[0m\u001b[0m_get_label\u001b[0m\u001b[1;33m(\u001b[0m\u001b[0mkey\u001b[0m\u001b[1;33m,\u001b[0m \u001b[0maxis\u001b[0m\u001b[1;33m=\u001b[0m\u001b[0maxis\u001b[0m\u001b[1;33m)\u001b[0m\u001b[1;33m\u001b[0m\u001b[1;33m\u001b[0m\u001b[0m\n\u001b[0m\u001b[0;32m   1851\u001b[0m \u001b[1;33m\u001b[0m\u001b[0m\n\u001b[0;32m   1852\u001b[0m \u001b[1;33m\u001b[0m\u001b[0m\n",
      "\u001b[1;32mC:\\ProgramData\\Anaconda3\\lib\\site-packages\\pandas\\core\\indexing.py\u001b[0m in \u001b[0;36m_get_label\u001b[1;34m(self, label, axis)\u001b[0m\n\u001b[0;32m    154\u001b[0m             \u001b[1;31m# but will fail when the index is not present\u001b[0m\u001b[1;33m\u001b[0m\u001b[1;33m\u001b[0m\u001b[1;33m\u001b[0m\u001b[0m\n\u001b[0;32m    155\u001b[0m             \u001b[1;31m# see GH5667\u001b[0m\u001b[1;33m\u001b[0m\u001b[1;33m\u001b[0m\u001b[1;33m\u001b[0m\u001b[0m\n\u001b[1;32m--> 156\u001b[1;33m             \u001b[1;32mreturn\u001b[0m \u001b[0mself\u001b[0m\u001b[1;33m.\u001b[0m\u001b[0mobj\u001b[0m\u001b[1;33m.\u001b[0m\u001b[0m_xs\u001b[0m\u001b[1;33m(\u001b[0m\u001b[0mlabel\u001b[0m\u001b[1;33m,\u001b[0m \u001b[0maxis\u001b[0m\u001b[1;33m=\u001b[0m\u001b[0maxis\u001b[0m\u001b[1;33m)\u001b[0m\u001b[1;33m\u001b[0m\u001b[1;33m\u001b[0m\u001b[0m\n\u001b[0m\u001b[0;32m    157\u001b[0m         \u001b[1;32melif\u001b[0m \u001b[0misinstance\u001b[0m\u001b[1;33m(\u001b[0m\u001b[0mlabel\u001b[0m\u001b[1;33m,\u001b[0m \u001b[0mtuple\u001b[0m\u001b[1;33m)\u001b[0m \u001b[1;32mand\u001b[0m \u001b[0misinstance\u001b[0m\u001b[1;33m(\u001b[0m\u001b[0mlabel\u001b[0m\u001b[1;33m[\u001b[0m\u001b[0maxis\u001b[0m\u001b[1;33m]\u001b[0m\u001b[1;33m,\u001b[0m \u001b[0mslice\u001b[0m\u001b[1;33m)\u001b[0m\u001b[1;33m:\u001b[0m\u001b[1;33m\u001b[0m\u001b[1;33m\u001b[0m\u001b[0m\n\u001b[0;32m    158\u001b[0m             \u001b[1;32mraise\u001b[0m \u001b[0mIndexingError\u001b[0m\u001b[1;33m(\u001b[0m\u001b[1;34m\"no slices here, handle elsewhere\"\u001b[0m\u001b[1;33m)\u001b[0m\u001b[1;33m\u001b[0m\u001b[1;33m\u001b[0m\u001b[0m\n",
      "\u001b[1;32mC:\\ProgramData\\Anaconda3\\lib\\site-packages\\pandas\\core\\generic.py\u001b[0m in \u001b[0;36mxs\u001b[1;34m(self, key, axis, level, drop_level)\u001b[0m\n\u001b[0;32m   3735\u001b[0m             \u001b[0mloc\u001b[0m\u001b[1;33m,\u001b[0m \u001b[0mnew_index\u001b[0m \u001b[1;33m=\u001b[0m \u001b[0mself\u001b[0m\u001b[1;33m.\u001b[0m\u001b[0mindex\u001b[0m\u001b[1;33m.\u001b[0m\u001b[0mget_loc_level\u001b[0m\u001b[1;33m(\u001b[0m\u001b[0mkey\u001b[0m\u001b[1;33m,\u001b[0m \u001b[0mdrop_level\u001b[0m\u001b[1;33m=\u001b[0m\u001b[0mdrop_level\u001b[0m\u001b[1;33m)\u001b[0m\u001b[1;33m\u001b[0m\u001b[1;33m\u001b[0m\u001b[0m\n\u001b[0;32m   3736\u001b[0m         \u001b[1;32melse\u001b[0m\u001b[1;33m:\u001b[0m\u001b[1;33m\u001b[0m\u001b[1;33m\u001b[0m\u001b[0m\n\u001b[1;32m-> 3737\u001b[1;33m             \u001b[0mloc\u001b[0m \u001b[1;33m=\u001b[0m \u001b[0mself\u001b[0m\u001b[1;33m.\u001b[0m\u001b[0mindex\u001b[0m\u001b[1;33m.\u001b[0m\u001b[0mget_loc\u001b[0m\u001b[1;33m(\u001b[0m\u001b[0mkey\u001b[0m\u001b[1;33m)\u001b[0m\u001b[1;33m\u001b[0m\u001b[1;33m\u001b[0m\u001b[0m\n\u001b[0m\u001b[0;32m   3738\u001b[0m \u001b[1;33m\u001b[0m\u001b[0m\n\u001b[0;32m   3739\u001b[0m             \u001b[1;32mif\u001b[0m \u001b[0misinstance\u001b[0m\u001b[1;33m(\u001b[0m\u001b[0mloc\u001b[0m\u001b[1;33m,\u001b[0m \u001b[0mnp\u001b[0m\u001b[1;33m.\u001b[0m\u001b[0mndarray\u001b[0m\u001b[1;33m)\u001b[0m\u001b[1;33m:\u001b[0m\u001b[1;33m\u001b[0m\u001b[1;33m\u001b[0m\u001b[0m\n",
      "\u001b[1;32mC:\\ProgramData\\Anaconda3\\lib\\site-packages\\pandas\\core\\indexes\\range.py\u001b[0m in \u001b[0;36mget_loc\u001b[1;34m(self, key, method, tolerance)\u001b[0m\n\u001b[0;32m    377\u001b[0m             \u001b[1;32mexcept\u001b[0m \u001b[0mValueError\u001b[0m\u001b[1;33m:\u001b[0m\u001b[1;33m\u001b[0m\u001b[1;33m\u001b[0m\u001b[0m\n\u001b[0;32m    378\u001b[0m                 \u001b[1;32mraise\u001b[0m \u001b[0mKeyError\u001b[0m\u001b[1;33m(\u001b[0m\u001b[0mkey\u001b[0m\u001b[1;33m)\u001b[0m\u001b[1;33m\u001b[0m\u001b[1;33m\u001b[0m\u001b[0m\n\u001b[1;32m--> 379\u001b[1;33m         \u001b[1;32mreturn\u001b[0m \u001b[0msuper\u001b[0m\u001b[1;33m(\u001b[0m\u001b[1;33m)\u001b[0m\u001b[1;33m.\u001b[0m\u001b[0mget_loc\u001b[0m\u001b[1;33m(\u001b[0m\u001b[0mkey\u001b[0m\u001b[1;33m,\u001b[0m \u001b[0mmethod\u001b[0m\u001b[1;33m=\u001b[0m\u001b[0mmethod\u001b[0m\u001b[1;33m,\u001b[0m \u001b[0mtolerance\u001b[0m\u001b[1;33m=\u001b[0m\u001b[0mtolerance\u001b[0m\u001b[1;33m)\u001b[0m\u001b[1;33m\u001b[0m\u001b[1;33m\u001b[0m\u001b[0m\n\u001b[0m\u001b[0;32m    380\u001b[0m \u001b[1;33m\u001b[0m\u001b[0m\n\u001b[0;32m    381\u001b[0m     \u001b[1;33m@\u001b[0m\u001b[0mAppender\u001b[0m\u001b[1;33m(\u001b[0m\u001b[0m_index_shared_docs\u001b[0m\u001b[1;33m[\u001b[0m\u001b[1;34m\"get_indexer\"\u001b[0m\u001b[1;33m]\u001b[0m\u001b[1;33m)\u001b[0m\u001b[1;33m\u001b[0m\u001b[1;33m\u001b[0m\u001b[0m\n",
      "\u001b[1;32mC:\\ProgramData\\Anaconda3\\lib\\site-packages\\pandas\\core\\indexes\\base.py\u001b[0m in \u001b[0;36mget_loc\u001b[1;34m(self, key, method, tolerance)\u001b[0m\n\u001b[0;32m   2897\u001b[0m                 \u001b[1;32mreturn\u001b[0m \u001b[0mself\u001b[0m\u001b[1;33m.\u001b[0m\u001b[0m_engine\u001b[0m\u001b[1;33m.\u001b[0m\u001b[0mget_loc\u001b[0m\u001b[1;33m(\u001b[0m\u001b[0mkey\u001b[0m\u001b[1;33m)\u001b[0m\u001b[1;33m\u001b[0m\u001b[1;33m\u001b[0m\u001b[0m\n\u001b[0;32m   2898\u001b[0m             \u001b[1;32mexcept\u001b[0m \u001b[0mKeyError\u001b[0m\u001b[1;33m:\u001b[0m\u001b[1;33m\u001b[0m\u001b[1;33m\u001b[0m\u001b[0m\n\u001b[1;32m-> 2899\u001b[1;33m                 \u001b[1;32mreturn\u001b[0m \u001b[0mself\u001b[0m\u001b[1;33m.\u001b[0m\u001b[0m_engine\u001b[0m\u001b[1;33m.\u001b[0m\u001b[0mget_loc\u001b[0m\u001b[1;33m(\u001b[0m\u001b[0mself\u001b[0m\u001b[1;33m.\u001b[0m\u001b[0m_maybe_cast_indexer\u001b[0m\u001b[1;33m(\u001b[0m\u001b[0mkey\u001b[0m\u001b[1;33m)\u001b[0m\u001b[1;33m)\u001b[0m\u001b[1;33m\u001b[0m\u001b[1;33m\u001b[0m\u001b[0m\n\u001b[0m\u001b[0;32m   2900\u001b[0m         \u001b[0mindexer\u001b[0m \u001b[1;33m=\u001b[0m \u001b[0mself\u001b[0m\u001b[1;33m.\u001b[0m\u001b[0mget_indexer\u001b[0m\u001b[1;33m(\u001b[0m\u001b[1;33m[\u001b[0m\u001b[0mkey\u001b[0m\u001b[1;33m]\u001b[0m\u001b[1;33m,\u001b[0m \u001b[0mmethod\u001b[0m\u001b[1;33m=\u001b[0m\u001b[0mmethod\u001b[0m\u001b[1;33m,\u001b[0m \u001b[0mtolerance\u001b[0m\u001b[1;33m=\u001b[0m\u001b[0mtolerance\u001b[0m\u001b[1;33m)\u001b[0m\u001b[1;33m\u001b[0m\u001b[1;33m\u001b[0m\u001b[0m\n\u001b[0;32m   2901\u001b[0m         \u001b[1;32mif\u001b[0m \u001b[0mindexer\u001b[0m\u001b[1;33m.\u001b[0m\u001b[0mndim\u001b[0m \u001b[1;33m>\u001b[0m \u001b[1;36m1\u001b[0m \u001b[1;32mor\u001b[0m \u001b[0mindexer\u001b[0m\u001b[1;33m.\u001b[0m\u001b[0msize\u001b[0m \u001b[1;33m>\u001b[0m \u001b[1;36m1\u001b[0m\u001b[1;33m:\u001b[0m\u001b[1;33m\u001b[0m\u001b[1;33m\u001b[0m\u001b[0m\n",
      "\u001b[1;32mpandas\\_libs\\index.pyx\u001b[0m in \u001b[0;36mpandas._libs.index.IndexEngine.get_loc\u001b[1;34m()\u001b[0m\n",
      "\u001b[1;32mpandas\\_libs\\index.pyx\u001b[0m in \u001b[0;36mpandas._libs.index.IndexEngine.get_loc\u001b[1;34m()\u001b[0m\n",
      "\u001b[1;32mpandas\\_libs\\index_class_helper.pxi\u001b[0m in \u001b[0;36mpandas._libs.index.Int64Engine._check_type\u001b[1;34m()\u001b[0m\n",
      "\u001b[1;31mKeyError\u001b[0m: 'coal'"
     ]
    }
   ],
   "source": []
  },
  {
   "cell_type": "code",
   "execution_count": null,
   "metadata": {},
   "outputs": [],
   "source": []
  }
 ],
 "metadata": {
  "kernelspec": {
   "display_name": "Python 3",
   "language": "python",
   "name": "python3"
  },
  "language_info": {
   "codemirror_mode": {
    "name": "ipython",
    "version": 3
   },
   "file_extension": ".py",
   "mimetype": "text/x-python",
   "name": "python",
   "nbconvert_exporter": "python",
   "pygments_lexer": "ipython3",
   "version": "3.7.1"
  }
 },
 "nbformat": 4,
 "nbformat_minor": 2
}
